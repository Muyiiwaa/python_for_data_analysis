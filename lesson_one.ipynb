{
 "cells": [
  {
   "cell_type": "markdown",
   "metadata": {},
   "source": [
    "# Lesson One\n",
    "\n",
    "### Variables and data types "
   ]
  },
  {
   "cell_type": "code",
   "execution_count": 12,
   "metadata": {},
   "outputs": [
    {
     "name": "stdout",
     "output_type": "stream",
     "text": [
      "my name is bayo and i am 35 years old\n"
     ]
    }
   ],
   "source": [
    "name = 'bayo'\n",
    "age = 35\n",
    "height = 34.5\n",
    "is_married = True\n",
    "\n",
    "\n",
    "print(f'my name is {name} and i am {age} years old')\n"
   ]
  },
  {
   "cell_type": "code",
   "execution_count": 16,
   "metadata": {},
   "outputs": [
    {
     "data": {
      "text/plain": [
       "bool"
      ]
     },
     "execution_count": 16,
     "metadata": {},
     "output_type": "execute_result"
    }
   ],
   "source": [
    "type(is_married)"
   ]
  },
  {
   "cell_type": "code",
   "execution_count": 24,
   "metadata": {},
   "outputs": [
    {
     "name": "stdout",
     "output_type": "stream",
     "text": [
      "Hi gbenga how are you\n"
     ]
    }
   ],
   "source": [
    "# simple that accepts a person's name and greets them\n",
    "\n",
    "person = input('Enter your name: ')\n",
    "print(f'Hi {person} how are you')"
   ]
  },
  {
   "cell_type": "code",
   "execution_count": 27,
   "metadata": {},
   "outputs": [
    {
     "name": "stdout",
     "output_type": "stream",
     "text": [
      "Hi my friend from usa\n"
     ]
    }
   ],
   "source": [
    "# write a program that accepts someone's country and greets them nicely.\n",
    "# greeting should be like \"hi my friend from Rwanda\"\n",
    "\n",
    "country = input('Enter your country: ')\n",
    "print(f'Hi my friend from {country}')"
   ]
  },
  {
   "cell_type": "code",
   "execution_count": 33,
   "metadata": {},
   "outputs": [
    {
     "name": "stdout",
     "output_type": "stream",
     "text": [
      "No wahala dayo i see that you are 30 years old\n"
     ]
    }
   ],
   "source": [
    "# write a program the accepts someones name and year of birth and tells them their age\n",
    "\n",
    "baby_name = input(\"How far baby kilo wa, what's your name?: \")\n",
    "year_birth = input(f\"Okay {baby_name}, when dem born you ?: \")\n",
    "age = 2024 - int(year_birth)\n",
    "\n",
    "print(f'No wahala {baby_name} i see that you are {age} years old')\n"
   ]
  },
  {
   "cell_type": "code",
   "execution_count": 31,
   "metadata": {},
   "outputs": [
    {
     "data": {
      "text/plain": [
       "str"
      ]
     },
     "execution_count": 31,
     "metadata": {},
     "output_type": "execute_result"
    }
   ],
   "source": [
    "type(year_birth)"
   ]
  },
  {
   "cell_type": "code",
   "execution_count": null,
   "metadata": {},
   "outputs": [],
   "source": []
  }
 ],
 "metadata": {
  "kernelspec": {
   "display_name": "Python 3",
   "language": "python",
   "name": "python3"
  },
  "language_info": {
   "codemirror_mode": {
    "name": "ipython",
    "version": 3
   },
   "file_extension": ".py",
   "mimetype": "text/x-python",
   "name": "python",
   "nbconvert_exporter": "python",
   "pygments_lexer": "ipython3",
   "version": "3.12.0"
  }
 },
 "nbformat": 4,
 "nbformat_minor": 2
}
